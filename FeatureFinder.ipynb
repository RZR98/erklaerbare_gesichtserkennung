{
 "cells": [
  {
   "cell_type": "code",
   "execution_count": null,
   "id": "a219c061",
   "metadata": {},
   "outputs": [],
   "source": [
    "import os\n",
    "import itertools\n",
    "import glob\n",
    "from PIL import Image\n",
    "import numpy as np\n",
    "from matplotlib import pyplot as plt\n",
    "from facenet_pytorch import MTCNN, InceptionResnetV1\n",
    "import clusteringv15 as myf\n",
    "\n",
    "print(\"Setting up detection pipeline.\\n\")\n",
    "\n",
    "# If required, create a face detection pipeline using MTCNN:\n",
    "mtcnn = MTCNN(image_size=160, margin=0)\n",
    "\n",
    "# Create an inception resnet (in eval mode):\n",
    "resnet = InceptionResnetV1(pretrained='vggface2').eval()"
   ]
  },
  {
   "cell_type": "code",
   "execution_count": null,
   "id": "8b4c66c9",
   "metadata": {},
   "outputs": [],
   "source": [
    "image_name = '13.jpg'\n",
    "\n",
    "input_ = Image.open('./data/input_data/' + image_name)\n",
    "input_cropped = mtcnn(input_,save_path='./data/input_data_aligned/' + image_name)\n",
    "input_embedding = resnet(input_cropped.unsqueeze(0))\n",
    "\n",
    "input_small = Image.open('./data/input_data_aligned/' + image_name)\n",
    "fig, axarray = plt.subplots(1,2,figsize=(8, 6))\n",
    "axarray[0].imshow(input_)\n",
    "axarray[0].axis('off')\n",
    "axarray[1].imshow(input_small)\n",
    "axarray[1].axis('off')\n",
    "fig.show()"
   ]
  },
  {
   "cell_type": "code",
   "execution_count": null,
   "id": "79ef343f",
   "metadata": {},
   "outputs": [],
   "source": [
    "# Making sure all necessary directories exists\n",
    "from pathlib import Path\n",
    "Path(\"./data/input_data_aligned\").mkdir(parents=True, exist_ok=True)\n",
    "Path(\"./data/temp/heatmaps\").mkdir(parents=True, exist_ok=True)\n",
    "Path(\"./data/temp/boxes\").mkdir(parents=True, exist_ok=True)\n",
    "Path(\"./data/temp/noise\").mkdir(parents=True, exist_ok=True)\n",
    "score_arrays=[]"
   ]
  },
  {
   "cell_type": "code",
   "execution_count": null,
   "id": "b56663ff",
   "metadata": {},
   "outputs": [],
   "source": [
    "img_path = './data/input_data_aligned/'+image_name\n",
    "img = Image.open(img_path)\n",
    "\n",
    "denominators = [2,4,5,8]\n",
    "noise_factors = np.arange(0,1,0.1)\n",
    "\n",
    "#clear heatmap datapath\n",
    "print(\"Clear heatmap_savepath.\")\n",
    "heatmap_path = './data/temp/heatmaps/'\n",
    "heatmap_data = list(itertools.chain(*(glob.glob(heatmap_path + '*.%s' % ext) for ext in [\"jpg\", \"jpeg\", \"png\"])))\n",
    "for f in heatmap_data:\n",
    "    os.remove(f)"
   ]
  },
  {
   "cell_type": "code",
   "execution_count": null,
   "id": "a25fa6b6",
   "metadata": {},
   "outputs": [],
   "source": [
    "#get landmarks\n",
    "boxes, probs, landmarks = mtcnn.detect(input_, landmarks=True)\n",
    "eyes, nose, mouth = myf.get_feature_bboxes(img, boxes, landmarks,save_path='./data/temp/landmarks/')"
   ]
  },
  {
   "cell_type": "code",
   "execution_count": null,
   "id": "586a466b",
   "metadata": {},
   "outputs": [],
   "source": [
    "#model eyes\n",
    "list_score_arrays = {}\n",
    "chop_path = './data/temp/landmarks/'\n",
    "noise_path = './data/temp/noise/'\n",
    "for nom in denominators:\n",
    "    chops = myf.cluster_face(img,denominator=nom,save_path=chop_path)\n",
    "    new_comps = myf.cluster_embeddings(img,noise_factors,chop_path,chops,mtcnn,resnet,save_path=noise_path)"
   ]
  },
  {
   "cell_type": "code",
   "execution_count": null,
   "id": "a381eb0d",
   "metadata": {},
   "outputs": [],
   "source": [
    "new_comps"
   ]
  },
  {
   "cell_type": "code",
   "execution_count": null,
   "id": "a0a458cd",
   "metadata": {},
   "outputs": [],
   "source": []
  }
 ],
 "metadata": {
  "kernelspec": {
   "display_name": "Python 3",
   "language": "python",
   "name": "python3"
  },
  "language_info": {
   "codemirror_mode": {
    "name": "ipython",
    "version": 3
   },
   "file_extension": ".py",
   "mimetype": "text/x-python",
   "name": "python",
   "nbconvert_exporter": "python",
   "pygments_lexer": "ipython3",
   "version": "3.8.8"
  }
 },
 "nbformat": 4,
 "nbformat_minor": 5
}
